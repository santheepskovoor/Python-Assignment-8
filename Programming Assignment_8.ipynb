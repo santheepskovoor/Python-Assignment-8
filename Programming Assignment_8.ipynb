{
 "cells": [
  {
   "cell_type": "markdown",
   "metadata": {},
   "source": [
    "# Python Basic Programming Assignment 8"
   ]
  },
  {
   "cell_type": "markdown",
   "metadata": {},
   "source": [
    "### 1. Write a Python Program to Add Two Matrices?"
   ]
  },
  {
   "cell_type": "code",
   "execution_count": 22,
   "metadata": {
    "scrolled": true
   },
   "outputs": [
    {
     "name": "stdout",
     "output_type": "stream",
     "text": [
      "[19, 21, 23]\n",
      "[25, 27, 29]\n",
      "[31, 33, 35]\n"
     ]
    }
   ],
   "source": [
    "#CREATE 2 MATRICS WITH LIST\n",
    "A=[[5,6,7],\n",
    "   [8,9,10],\n",
    "   [11,12,13]]\n",
    "B=[[14,15,16],\n",
    "   [17,18,19],\n",
    "   [20,21,22]]\n",
    "#To add the matrices, we need to create null matrics\n",
    "result=[[0,0,0],\n",
    "       [0,0,0],\n",
    "       [0,0,0]]\n",
    "#to iterate through column & rows we can use for loops:Here \"i\" is iterating through rows & j is iterating throughcolumns\n",
    "\n",
    "#To iteratie through rows\n",
    "for i in range(len(A)):\n",
    "#To iterate through columns use A[0]  \n",
    "    for j in range(len(A[0])):\n",
    "        result[i][j]=A[i][j]+B[i][j]\n",
    "# To print the result in matrix form, we can use for loop\n",
    "for r in result:\n",
    "    print(r)"
   ]
  },
  {
   "cell_type": "markdown",
   "metadata": {},
   "source": [
    "### 2. Write a Python Program to Multiply Two Matrices?"
   ]
  },
  {
   "cell_type": "code",
   "execution_count": 28,
   "metadata": {},
   "outputs": [
    {
     "name": "stdout",
     "output_type": "stream",
     "text": [
      "[312, 330, 348]\n",
      "[465, 492, 519]\n",
      "[618, 654, 690]\n"
     ]
    }
   ],
   "source": [
    "#CREATE 2 MATRICS WITH LIST\n",
    "A=[[5,6,7],\n",
    "   [8,9,10],\n",
    "   [11,12,13]]\n",
    "B=[[14,15,16],\n",
    "   [17,18,19],\n",
    "   [20,21,22]]\n",
    "#To multiply the matrices, we need to create null matrics\n",
    "result=[[0,0,0],\n",
    "       [0,0,0],\n",
    "       [0,0,0]]\n",
    "#To iterate over rows\n",
    "for i in range(len(A)):\n",
    "#to iterate over columns\n",
    "    for j in range(len(B[0])):\n",
    "#to add the elements after the row(A) & column(B) multiplication\n",
    "        for k in range(len(B)):   \n",
    "            result[i][j] += A[i][k] * B[k][j]\n",
    "for r in result:\n",
    "    print(r)"
   ]
  },
  {
   "cell_type": "markdown",
   "metadata": {},
   "source": [
    "### 3. Write a Python Program to Transpose a Matrix?"
   ]
  },
  {
   "cell_type": "code",
   "execution_count": 1,
   "metadata": {},
   "outputs": [
    {
     "name": "stdout",
     "output_type": "stream",
     "text": [
      "The transpose of a matrix is: [[10 40 70]\n",
      " [20 50 80]\n",
      " [30 60 90]]\n"
     ]
    }
   ],
   "source": [
    "import numpy as np\n",
    "a=[[10,20,30],[40,50,60],[70,80,90]]\n",
    "print(\"The transpose of a matrix is:\",np.transpose(a))"
   ]
  },
  {
   "cell_type": "markdown",
   "metadata": {},
   "source": [
    "\n",
    "### 4. Write a Python Program to Sort Words in Alphabetic Order?\n"
   ]
  },
  {
   "cell_type": "code",
   "execution_count": 25,
   "metadata": {},
   "outputs": [
    {
     "name": "stdout",
     "output_type": "stream",
     "text": [
      "The sorted words in the sentence are : ['alphabetical' 'example' 'in' 'is' 'of' 'order' 'sorted' 'the' 'this'\n",
      " 'words']\n"
     ]
    }
   ],
   "source": [
    "word=\"This is the example of sorted words in Alphabetical order\"\n",
    "#make the sentence lower case and split \n",
    "list1=word.lower().split()\n",
    "#we can sort the words by using numpy sort command\n",
    "print(\"The sorted words in the sentence are :\",np.sort(list1))"
   ]
  },
  {
   "cell_type": "markdown",
   "metadata": {},
   "source": [
    "### 5. Write a Python Program to Remove Punctuation From a String?"
   ]
  },
  {
   "cell_type": "code",
   "execution_count": 44,
   "metadata": {},
   "outputs": [
    {
     "name": "stdout",
     "output_type": "stream",
     "text": [
      "Enter anything here:Hello!!!!! Hope you are doing well?????\n",
      " Hello Hope you are doing well\n"
     ]
    }
   ],
   "source": [
    "punc='''!@#$%^&*(){}[]<,>.?/\"''\"'''\n",
    "words=input(\"Enter anything here:\")\n",
    "empty_str=\" \"\n",
    "for i in words:\n",
    "    if i not in punc:\n",
    "        empty_str=empty_str + i\n",
    "print(empty_str)"
   ]
  }
 ],
 "metadata": {
  "kernelspec": {
   "display_name": "Python 3",
   "language": "python",
   "name": "python3"
  },
  "language_info": {
   "codemirror_mode": {
    "name": "ipython",
    "version": 3
   },
   "file_extension": ".py",
   "mimetype": "text/x-python",
   "name": "python",
   "nbconvert_exporter": "python",
   "pygments_lexer": "ipython3",
   "version": "3.8.5"
  }
 },
 "nbformat": 4,
 "nbformat_minor": 5
}
